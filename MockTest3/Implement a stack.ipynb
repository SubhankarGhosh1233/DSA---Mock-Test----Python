{
 "cells": [
  {
   "cell_type": "markdown",
   "id": "43f7e8e0",
   "metadata": {},
   "source": [
    "Implement a stack using a list in Python. Include the necessary methods such as push, pop, and isEmpty."
   ]
  },
  {
   "cell_type": "code",
   "execution_count": 1,
   "id": "34fd4eea",
   "metadata": {},
   "outputs": [
    {
     "name": "stdout",
     "output_type": "stream",
     "text": [
      "1\n",
      "10\n",
      "100\n",
      "1000\n"
     ]
    }
   ],
   "source": [
    "#Implement a stack using a list in Python.\n",
    "def create():\n",
    "    stack=list()\n",
    "    return stack\n",
    "#weather empty \n",
    "def isEmpty(stack):\n",
    "    return len(stack)==0\n",
    "#inserting into stack\n",
    "def push (stack,n):\n",
    "    stack.append(n)\n",
    "#removing from stack\n",
    "def pop(stack):\n",
    "    if(isEmpty(stack)):\n",
    "        return \"this stack is empty\"\n",
    "    else:\n",
    "        return stack.pop()\n",
    "#display the stack\n",
    "def show(stack):\n",
    "    for i in stack:\n",
    "        print(i)\n",
    "stack = create()\n",
    "push(stack, str(1))\n",
    "push(stack, str(10))\n",
    "push(stack, str(100))\n",
    "push(stack, str(1000))\n",
    "\n",
    "show(stack)"
   ]
  }
 ],
 "metadata": {
  "kernelspec": {
   "display_name": "Python 3 (ipykernel)",
   "language": "python",
   "name": "python3"
  },
  "language_info": {
   "codemirror_mode": {
    "name": "ipython",
    "version": 3
   },
   "file_extension": ".py",
   "mimetype": "text/x-python",
   "name": "python",
   "nbconvert_exporter": "python",
   "pygments_lexer": "ipython3",
   "version": "3.9.12"
  }
 },
 "nbformat": 4,
 "nbformat_minor": 5
}
